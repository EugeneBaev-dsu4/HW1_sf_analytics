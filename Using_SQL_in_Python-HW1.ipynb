{
 "cells": [
  {
   "cell_type": "code",
   "execution_count": 1,
   "metadata": {
    "id": "m0ApYoAT3LoF"
   },
   "outputs": [],
   "source": [
    "import pandas as pd\n",
    "import pandasql\n",
    "#we use pandasql to type SQL commands on a pandas dataframe!"
   ]
  },
  {
   "cell_type": "code",
   "execution_count": 5,
   "metadata": {
    "id": "Dn-gDMG73LoJ"
   },
   "outputs": [],
   "source": [
    "#загрузим датасет, по умолчанию как раз подгрузится нужный нам 1 лист mortgage\n",
    "bank = pd.read_excel('data/bank_account_data.xlsx')"
   ]
  },
  {
   "cell_type": "code",
   "execution_count": 6,
   "metadata": {
    "id": "29cadSLW3LoK"
   },
   "outputs": [
    {
     "data": {
      "text/html": [
       "<div>\n",
       "<style scoped>\n",
       "    .dataframe tbody tr th:only-of-type {\n",
       "        vertical-align: middle;\n",
       "    }\n",
       "\n",
       "    .dataframe tbody tr th {\n",
       "        vertical-align: top;\n",
       "    }\n",
       "\n",
       "    .dataframe thead th {\n",
       "        text-align: right;\n",
       "    }\n",
       "</style>\n",
       "<table border=\"1\" class=\"dataframe\">\n",
       "  <thead>\n",
       "    <tr style=\"text-align: right;\">\n",
       "      <th></th>\n",
       "      <th>Cust_ID</th>\n",
       "      <th>Purchase</th>\n",
       "      <th>Cheq_Bal</th>\n",
       "      <th>Sav_Bal</th>\n",
       "      <th>Debt_Bal</th>\n",
       "      <th>Joint_Acct</th>\n",
       "      <th>Age</th>\n",
       "      <th>Date</th>\n",
       "    </tr>\n",
       "  </thead>\n",
       "  <tbody>\n",
       "    <tr>\n",
       "      <th>0</th>\n",
       "      <td>1</td>\n",
       "      <td>0</td>\n",
       "      <td>1739.48</td>\n",
       "      <td>26918.18</td>\n",
       "      <td>12563.93</td>\n",
       "      <td>0</td>\n",
       "      <td>49</td>\n",
       "      <td>NaT</td>\n",
       "    </tr>\n",
       "    <tr>\n",
       "      <th>1</th>\n",
       "      <td>2</td>\n",
       "      <td>0</td>\n",
       "      <td>2862.35</td>\n",
       "      <td>23093.67</td>\n",
       "      <td>15457.88</td>\n",
       "      <td>0</td>\n",
       "      <td>39</td>\n",
       "      <td>NaT</td>\n",
       "    </tr>\n",
       "    <tr>\n",
       "      <th>2</th>\n",
       "      <td>3</td>\n",
       "      <td>0</td>\n",
       "      <td>2296.66</td>\n",
       "      <td>18037.33</td>\n",
       "      <td>12721.89</td>\n",
       "      <td>0</td>\n",
       "      <td>52</td>\n",
       "      <td>NaT</td>\n",
       "    </tr>\n",
       "    <tr>\n",
       "      <th>3</th>\n",
       "      <td>4</td>\n",
       "      <td>1</td>\n",
       "      <td>2880.28</td>\n",
       "      <td>32317.63</td>\n",
       "      <td>7075.03</td>\n",
       "      <td>0</td>\n",
       "      <td>28</td>\n",
       "      <td>2017-04-30</td>\n",
       "    </tr>\n",
       "    <tr>\n",
       "      <th>4</th>\n",
       "      <td>5</td>\n",
       "      <td>0</td>\n",
       "      <td>998.27</td>\n",
       "      <td>15110.04</td>\n",
       "      <td>11356.13</td>\n",
       "      <td>0</td>\n",
       "      <td>43</td>\n",
       "      <td>NaT</td>\n",
       "    </tr>\n",
       "  </tbody>\n",
       "</table>\n",
       "</div>"
      ],
      "text/plain": [
       "   Cust_ID  Purchase  Cheq_Bal   Sav_Bal  Debt_Bal  Joint_Acct  Age       Date\n",
       "0        1         0   1739.48  26918.18  12563.93           0   49        NaT\n",
       "1        2         0   2862.35  23093.67  15457.88           0   39        NaT\n",
       "2        3         0   2296.66  18037.33  12721.89           0   52        NaT\n",
       "3        4         1   2880.28  32317.63   7075.03           0   28 2017-04-30\n",
       "4        5         0    998.27  15110.04  11356.13           0   43        NaT"
      ]
     },
     "execution_count": 6,
     "metadata": {},
     "output_type": "execute_result"
    }
   ],
   "source": [
    "# проверим загрузку датасета\n",
    "bank.head(5)"
   ]
  },
  {
   "cell_type": "markdown",
   "metadata": {},
   "source": [
    "### 1. Опишите имеющиеся колонки в данных - сделайте аналог describe в pandas для колонок."
   ]
  },
  {
   "cell_type": "code",
   "execution_count": 7,
   "metadata": {
    "id": "ua6tO1SF3LoL"
   },
   "outputs": [],
   "source": [
    "# используем агрегирующие функции для каждой колонки\n",
    "Cust_ID = pandasql.sqldf(\"SELECT SUM(Cust_ID), AVG(Cust_ID), COUNT(Cust_ID), MIN (Cust_ID), MAX(Cust_ID) FROM bank;\")\n",
    "Purchase = pandasql.sqldf(\"SELECT SUM(Purchase), AVG(Purchase), COUNT(Purchase), MIN (Purchase),MAX(Purchase) FROM bank;\")\n",
    "Cheq_Bal = pandasql.sqldf(\"SELECT SUM(Cheq_Bal), AVG(Cheq_Bal), COUNT(Cheq_Bal), MIN (Cheq_Bal), MAX(Cheq_Bal) FROM bank;\")\n",
    "Sav_Bal= pandasql.sqldf(\"SELECT SUM(Sav_Bal), AVG(Sav_Bal), COUNT(Sav_Bal), MIN (Sav_Bal), MAX(Sav_Bal) FROM bank;\")\n",
    "Debt_Bal = pandasql.sqldf(\"SELECT SUM(Debt_Bal), AVG(Debt_Bal), COUNT(Debt_Bal), MIN (Debt_Bal), MAX(Debt_Bal) FROM bank;\")\n",
    "Joint_Acct = pandasql.sqldf(\"SELECT SUM(Joint_Acct), AVG(Joint_Acct), COUNT(Joint_Acct), MIN (Joint_Acct), MAX(Joint_Acct) FROM bank;\")\n",
    "Age = pandasql.sqldf(\"SELECT SUM(Age), AVG(Age), COUNT(Age), MIN (Age), MAX(Age) FROM bank;\")\n",
    "Date = pandasql.sqldf(\"SELECT SUM(Date), AVG(Date), COUNT(Date), MIN (Date), MAX(Date) FROM bank;\")"
   ]
  },
  {
   "cell_type": "code",
   "execution_count": 8,
   "metadata": {},
   "outputs": [
    {
     "name": "stdout",
     "output_type": "stream",
     "text": [
      "   SUM(Cust_ID)  AVG(Cust_ID)  COUNT(Cust_ID)  MIN (Cust_ID)  MAX(Cust_ID)\n",
      "0         20100         100.5             200              1           200\n",
      "\n",
      "   SUM(Purchase)  AVG(Purchase)  COUNT(Purchase)  MIN (Purchase)  \\\n",
      "0             39          0.195              200               0   \n",
      "\n",
      "   MAX(Purchase)  \n",
      "0              1  \n",
      "\n",
      "   SUM(Cheq_Bal)  AVG(Cheq_Bal)  COUNT(Cheq_Bal)  MIN (Cheq_Bal)  \\\n",
      "0       429018.7      2145.0935              200          644.31   \n",
      "\n",
      "   MAX(Cheq_Bal)  \n",
      "0        4437.44  \n",
      "\n",
      "   SUM(Sav_Bal)  AVG(Sav_Bal)  COUNT(Sav_Bal)  MIN (Sav_Bal)  MAX(Sav_Bal)\n",
      "0    4416885.79   22084.42895             200        6558.91      39132.63\n",
      "\n",
      "   SUM(Debt_Bal)  AVG(Debt_Bal)  COUNT(Debt_Bal)  MIN (Debt_Bal)  \\\n",
      "0     1727673.92      8638.3696              200             0.0   \n",
      "\n",
      "   MAX(Debt_Bal)  \n",
      "0        20559.7  \n",
      "\n",
      "   SUM(Joint_Acct)  AVG(Joint_Acct)  COUNT(Joint_Acct)  MIN (Joint_Acct)  \\\n",
      "0               59            0.295                200                 0   \n",
      "\n",
      "   MAX(Joint_Acct)  \n",
      "0                1  \n",
      "\n",
      "   SUM(Age)  AVG(Age)  COUNT(Age)  MIN (Age)  MAX(Age)\n",
      "0      7707    38.535         200         18        60\n",
      "\n",
      "   SUM(Date)  AVG(Date)  COUNT(Date)                  MIN (Date)  \\\n",
      "0    78663.0     2017.0           39  2017-04-01 00:00:00.000000   \n",
      "\n",
      "                    MAX(Date)  \n",
      "0  2017-08-29 00:00:00.000000  \n"
     ]
    }
   ],
   "source": [
    "# выведем полученные результаты\n",
    "print(Cust_ID, Purchase, Cheq_Bal, Sav_Bal, \n",
    "      Debt_Bal, Joint_Acct, Age, Date, sep='\\n\\n')"
   ]
  },
  {
   "cell_type": "code",
   "execution_count": 9,
   "metadata": {},
   "outputs": [],
   "source": [
    "# 1 колонка содершит уникальные id, 2 и 6 колонка категориальные и содержат всего 2 значения, \n",
    "# 3-5 колонки содержат данные о разлчиных видах счетов, 6 колонка показывает данные возраста, \n",
    "#7 колонка содержит временные данные, выбросов и отклонений на первый взгляд не видно, есть пропуски в колонке Date"
   ]
  },
  {
   "cell_type": "markdown",
   "metadata": {},
   "source": [
    "### 2. Посчитайте совокупный объем средств у клиентов в банке - сумма по всем балансам с группировкой по id клиента"
   ]
  },
  {
   "cell_type": "code",
   "execution_count": 10,
   "metadata": {},
   "outputs": [
    {
     "name": "stdout",
     "output_type": "stream",
     "text": [
      "     Cust_ID  total_bal\n",
      "0          1   41221.59\n",
      "1          2   41413.90\n",
      "2          3   33055.88\n",
      "3          4   42272.94\n",
      "4          5   27464.44\n",
      "..       ...        ...\n",
      "195      196   33573.27\n",
      "196      197   32763.17\n",
      "197      198   36788.96\n",
      "198      199   26379.16\n",
      "199      200   32372.60\n",
      "\n",
      "[200 rows x 2 columns]\n"
     ]
    }
   ],
   "source": [
    "total_Bal = pandasql.sqldf(\"SELECT Cust_ID, SUM(Sav_Bal+Cheq_Bal+Debt_Bal) AS total_bal FROM bank GROUP BY 1;\")\n",
    "print(total_Bal)"
   ]
  },
  {
   "cell_type": "markdown",
   "metadata": {},
   "source": [
    "### 3. Выведите только тех клиентов, которые приобрели ипотеку (колонка purchase)"
   ]
  },
  {
   "cell_type": "code",
   "execution_count": 11,
   "metadata": {},
   "outputs": [
    {
     "name": "stdout",
     "output_type": "stream",
     "text": [
      "    Cust_ID\n",
      "0         4\n",
      "1         6\n",
      "2         7\n",
      "3        11\n",
      "4        13\n",
      "5        17\n",
      "6        18\n",
      "7        20\n",
      "8        22\n",
      "9        31\n",
      "10       36\n",
      "11       38\n",
      "12       40\n",
      "13       41\n",
      "14       54\n",
      "15       56\n",
      "16       59\n",
      "17       60\n",
      "18       74\n",
      "19       76\n",
      "20       80\n",
      "21       87\n",
      "22       91\n",
      "23       93\n",
      "24       94\n",
      "25       97\n",
      "26      100\n",
      "27      107\n",
      "28      111\n",
      "29      113\n",
      "30      132\n",
      "31      146\n",
      "32      154\n",
      "33      166\n",
      "34      169\n",
      "35      182\n",
      "36      184\n",
      "37      185\n",
      "38      189\n"
     ]
    }
   ],
   "source": [
    "mortgage = pandasql.sqldf(\"SELECT Cust_ID FROM bank WHERE purchase = 1;\")\n",
    "print(mortgage)"
   ]
  },
  {
   "cell_type": "markdown",
   "metadata": {},
   "source": [
    "### 4. Какой совокупный объем средств в среднем у клиентов, которые приобрели ипотеку и у клиентов, которые её не приобретали?"
   ]
  },
  {
   "cell_type": "code",
   "execution_count": 12,
   "metadata": {},
   "outputs": [
    {
     "name": "stdout",
     "output_type": "stream",
     "text": [
      "    avg_balance\n",
      "0  32095.885031\n",
      "1  36054.895385\n"
     ]
    }
   ],
   "source": [
    "total_morgage = pandasql.sqldf(\"SELECT AVG(Sav_Bal+Cheq_Bal+Debt_Bal) AS avg_balance FROM bank GROUP BY purchase;\")\n",
    "print(total_morgage)"
   ]
  },
  {
   "cell_type": "markdown",
   "metadata": {},
   "source": [
    "У клиентов, которые приобрели ипотеку в среднем средств чуть больше на балансе"
   ]
  },
  {
   "cell_type": "markdown",
   "metadata": {},
   "source": [
    "### 5. Есть ли разница в среднем по каждому из типов баланса у клиентов, которые приобрели ипотеку и у клиентов, которые её не приобретали?"
   ]
  },
  {
   "cell_type": "code",
   "execution_count": 13,
   "metadata": {},
   "outputs": [
    {
     "name": "stdout",
     "output_type": "stream",
     "text": [
      "   AVG(Sav_Bal)  AVG(Cheq_Bal)  AVG(Debt_Bal)\n",
      "0  20257.209814    1996.631366    9842.043851\n",
      "1  29627.564359    2757.975641    3669.355385\n"
     ]
    }
   ],
   "source": [
    "avg_morgage = pandasql.sqldf(\"SELECT AVG(Sav_Bal), AVG(Cheq_Bal), AVG(Debt_Bal) FROM bank GROUP BY purchase;\")\n",
    "print(avg_morgage)"
   ]
  },
  {
   "cell_type": "markdown",
   "metadata": {},
   "source": [
    "У клиентов, которые приобрели ипотеку в среднем средств чуть больше на первых 2 видах баланса, \n",
    "которые видимо используются в большей степени для оплаты ипотеки"
   ]
  },
  {
   "cell_type": "markdown",
   "metadata": {},
   "source": [
    "### 6. Выберите самого возрастного получателя ипотеки."
   ]
  },
  {
   "cell_type": "code",
   "execution_count": 14,
   "metadata": {},
   "outputs": [
    {
     "name": "stdout",
     "output_type": "stream",
     "text": [
      "   Cust_ID  MAX(Age)\n",
      "0       34        60\n"
     ]
    }
   ],
   "source": [
    "old_id = pandasql.sqldf(\"SELECT Cust_ID, MAX(Age) FROM bank;\")\n",
    "print(old_id)"
   ]
  },
  {
   "cell_type": "markdown",
   "metadata": {},
   "source": [
    "### 7. Выберите клиента, который раньше всех получил ипотеку."
   ]
  },
  {
   "cell_type": "code",
   "execution_count": 15,
   "metadata": {},
   "outputs": [
    {
     "name": "stdout",
     "output_type": "stream",
     "text": [
      "   Cust_ID                   MIN(Date)\n",
      "0      185  2017-04-01 00:00:00.000000\n"
     ]
    }
   ],
   "source": [
    "first_id = pandasql.sqldf(\"SELECT Cust_ID, MIN(Date) FROM bank;\")\n",
    "print(first_id)"
   ]
  },
  {
   "cell_type": "markdown",
   "metadata": {},
   "source": [
    "### 8. Создайте любую базу данных в sqlite3, состоящую из 5 колонок, одна из колонок обязательно должна быть типа REAL. (Названия колонок любые, какие захотите)"
   ]
  },
  {
   "cell_type": "code",
   "execution_count": 17,
   "metadata": {},
   "outputs": [
    {
     "name": "stdout",
     "output_type": "stream",
     "text": [
      "Opened database successfully\n",
      "Table created successfully\n"
     ]
    }
   ],
   "source": [
    "# CREATING THE TABLE\n",
    "import sqlite3\n",
    "\n",
    "conn = sqlite3.connect('test.db')\n",
    "print(\"Opened database successfully\");\n",
    "\n",
    "conn.execute('''\n",
    "CREATE TABLE hosp (Id INTEGER, \n",
    "nozology_id INTEGER, \n",
    "hospitalization_date DATE, \n",
    "Age INTEGER, \n",
    "Tbody REAL);''')\n",
    "\n",
    "conn.commit()\n",
    "\n",
    "print(\"Table created successfully\");\n",
    "\n",
    "conn.close()"
   ]
  },
  {
   "cell_type": "markdown",
   "metadata": {},
   "source": [
    "### 9. Добавьте 3 полностью заполненные строки в вашу БД."
   ]
  },
  {
   "cell_type": "code",
   "execution_count": 18,
   "metadata": {},
   "outputs": [],
   "source": [
    "# INSERTING VALUES\n",
    "conn = sqlite3.connect('test.db')\n",
    "\n",
    "conn.execute('''INSERT INTO hosp VALUES ('1', '43', '2022-01-06', '51', '37.8'),\n",
    "                                            ('2', '51', '2022-03-06', '56', '36.8'), \n",
    "                                            ('3', '54', '2022-07-06', '26', '36.5');''')\n",
    "\n",
    "conn.commit()\n",
    "conn.close()"
   ]
  },
  {
   "cell_type": "code",
   "execution_count": 19,
   "metadata": {},
   "outputs": [],
   "source": [
    "# проверим, что все добавилось"
   ]
  },
  {
   "cell_type": "code",
   "execution_count": 20,
   "metadata": {},
   "outputs": [],
   "source": [
    "conn = sqlite3.connect('test.db')\n",
    "cur = conn.cursor()\n",
    "cur.execute(\"SELECT * from hosp;\")\n",
    "result = cur.fetchall()\n",
    "conn.close()"
   ]
  },
  {
   "cell_type": "code",
   "execution_count": 21,
   "metadata": {},
   "outputs": [
    {
     "data": {
      "text/plain": [
       "[(1, 43, '2022-01-06', 51, 37.8),\n",
       " (2, 51, '2022-03-06', 56, 36.8),\n",
       " (3, 54, '2022-07-06', 26, 36.5)]"
      ]
     },
     "execution_count": 21,
     "metadata": {},
     "output_type": "execute_result"
    }
   ],
   "source": [
    "result"
   ]
  },
  {
   "cell_type": "markdown",
   "metadata": {},
   "source": [
    "### 10. Удалите строку из колонки типа REAL (из пункта 8), в которой значение признака среднее (то есть не минимальное и не максимальное). Напрямую указывать значение из этой строки нельзя."
   ]
  },
  {
   "cell_type": "code",
   "execution_count": 22,
   "metadata": {},
   "outputs": [],
   "source": [
    "# DELETING VALUES\n",
    "conn = sqlite3.connect('test.db')\n",
    "\n",
    "conn.execute('''DELETE FROM hosp WHERE Tbody NOT IN (SELECT MAX(Tbody) FROM hosp) \n",
    "                                         and Tbody NOT IN (SELECT MIN(Tbody) FROM hosp);''')\n",
    "\n",
    "conn.commit()\n",
    "conn.close()"
   ]
  },
  {
   "cell_type": "code",
   "execution_count": 23,
   "metadata": {},
   "outputs": [],
   "source": [
    "# проверим, что удалилась именно средняя строка"
   ]
  },
  {
   "cell_type": "code",
   "execution_count": 24,
   "metadata": {},
   "outputs": [],
   "source": [
    "conn = sqlite3.connect('test.db')\n",
    "cur = conn.cursor()\n",
    "cur.execute(\"SELECT * from hosp;\")\n",
    "result = cur.fetchall()\n",
    "conn.close()"
   ]
  },
  {
   "cell_type": "code",
   "execution_count": 25,
   "metadata": {
    "id": "uA3yJ0aE3LoN"
   },
   "outputs": [
    {
     "data": {
      "text/plain": [
       "[(1, 43, '2022-01-06', 51, 37.8), (3, 54, '2022-07-06', 26, 36.5)]"
      ]
     },
     "execution_count": 25,
     "metadata": {},
     "output_type": "execute_result"
    }
   ],
   "source": [
    "result"
   ]
  },
  {
   "cell_type": "code",
   "execution_count": null,
   "metadata": {},
   "outputs": [],
   "source": []
  }
 ],
 "metadata": {
  "colab": {
   "provenance": []
  },
  "kernelspec": {
   "display_name": "Python 3 (ipykernel)",
   "language": "python",
   "name": "python3"
  },
  "language_info": {
   "codemirror_mode": {
    "name": "ipython",
    "version": 3
   },
   "file_extension": ".py",
   "mimetype": "text/x-python",
   "name": "python",
   "nbconvert_exporter": "python",
   "pygments_lexer": "ipython3",
   "version": "3.9.7"
  }
 },
 "nbformat": 4,
 "nbformat_minor": 1
}
